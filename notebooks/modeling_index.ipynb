{
 "cells": [
  {
   "cell_type": "markdown",
   "source": [
    "# Modeling Index"
   ],
   "metadata": {
    "collapsed": false
   },
   "id": "f78be69e524f9f88"
  },
  {
   "cell_type": "code",
   "outputs": [],
   "source": [
    "import torch.nn.functional\n",
    "\n",
    "from data_loading import load_data, create_dataloaders, split_dataset\n",
    "import configuration\n",
    "from modeling.Predictor import Predictor\n",
    "from matplotlib import pyplot as plt\n",
    "import numpy as np\n",
    "\n",
    "data = load_data()"
   ],
   "metadata": {
    "collapsed": false,
    "ExecuteTime": {
     "end_time": "2025-05-18T06:12:50.427182Z",
     "start_time": "2025-05-18T06:12:50.411458Z"
    }
   },
   "id": "3903309f6b150b34",
   "execution_count": 41
  },
  {
   "cell_type": "code",
   "outputs": [],
   "source": [
    "data = data[['Date', '_MKT', '_VA']]\n",
    "\n",
    "window_size = 104\n",
    "num_features = data.shape[1] - 1\n",
    "length_pred = 1\n",
    "look_ahead = 1\n",
    "\n",
    "train_set, val_set, test_set = split_dataset(data, \n",
    "                                             window_size=window_size, \n",
    "                                             prediction_length=length_pred, \n",
    "                                             look_ahead=look_ahead,\n",
    "                                             scale_target=True,\n",
    "                                             fixed_feature_size = None,\n",
    "                                             is_indexed=True)\n",
    "\n",
    "train_loader, val_loader, test_loader = create_dataloaders(train_set, val_set, test_set, shuffle_train_loader=True)"
   ],
   "metadata": {
    "collapsed": false,
    "ExecuteTime": {
     "end_time": "2025-05-18T06:12:50.443206Z",
     "start_time": "2025-05-18T06:12:50.435495Z"
    }
   },
   "id": "6ecb1462f57f0d8a",
   "execution_count": 42
  },
  {
   "cell_type": "code",
   "outputs": [
    {
     "name": "stdout",
     "output_type": "stream",
     "text": [
      "Epoch 1; train loss: 39.45048\n",
      "Epoch 1; validation loss: 201.70774\n",
      "\n",
      "\n",
      "Epoch 2; train loss: 34.18308\n",
      "Epoch 2; validation loss: 203.36156\n",
      "\n",
      "\n",
      "Epoch 3; train loss: 30.70413\n",
      "Epoch 3; validation loss: 204.25232\n",
      "\n",
      "Epoch 4; train loss: 27.62837\n",
      "Epoch 4; validation loss: 200.74403\n",
      "\n",
      "\n",
      "Epoch 5; train loss: 24.39705\n",
      "Epoch 5; validation loss: 191.59178\n",
      "\n",
      "\n",
      "Epoch 6; train loss: 21.25322\n",
      "Epoch 6; validation loss: 174.20594\n",
      "\n",
      "Epoch 7; train loss: 18.22335\n",
      "Epoch 7; validation loss: 148.28051\n",
      "\n",
      "\n",
      "Epoch 8; train loss: 15.16415\n",
      "Epoch 8; validation loss: 116.20222\n",
      "\n",
      "\n",
      "Epoch 9; train loss: 12.04334\n",
      "Epoch 9; validation loss: 90.29932\n",
      "\n",
      "\n",
      "Epoch 10; train loss: 9.36464\n",
      "Epoch 10; validation loss: 68.65914\n",
      "\n",
      "\n",
      "Epoch 11; train loss: 7.12987\n",
      "Epoch 11; validation loss: 50.48959\n",
      "\n",
      "\n",
      "Epoch 12; train loss: 4.9729\n",
      "Epoch 12; validation loss: 32.93931\n",
      "\n",
      "Epoch 13; train loss: 3.87367\n",
      "Epoch 13; validation loss: 14.99759\n",
      "\n",
      "\n",
      "Epoch 14; train loss: 2.4242\n",
      "Epoch 14; validation loss: 8.14354\n",
      "\n",
      "\n",
      "Epoch 15; train loss: 1.96192\n",
      "Epoch 15; validation loss: 4.15786\n",
      "\n",
      "\n",
      "Epoch 16; train loss: 1.57562\n",
      "Epoch 16; validation loss: 1.53847\n",
      "\n",
      "Epoch 17; train loss: 1.32902\n",
      "Epoch 17; validation loss: 0.82447\n",
      "\n",
      "\n",
      "Epoch 18; train loss: 1.19085\n",
      "Epoch 18; validation loss: 0.92729\n",
      "\n",
      "\n",
      "Epoch 19; train loss: 1.1012\n",
      "Epoch 19; validation loss: 0.77986\n",
      "\n",
      "\n",
      "Epoch 20; train loss: 0.93971\n",
      "Epoch 20; validation loss: 0.92468\n",
      "\n",
      "Epoch 21; train loss: 0.8955\n",
      "Epoch 21; validation loss: 0.87382\n",
      "\n",
      "\n",
      "Epoch 22; train loss: 0.80104\n",
      "Epoch 22; validation loss: 1.15711\n",
      "\n",
      "\n",
      "Epoch 23; train loss: 0.79567\n",
      "Epoch 23; validation loss: 0.83642\n",
      "\n",
      "Epoch 24; train loss: 0.73576\n",
      "Epoch 24; validation loss: 0.6034\n",
      "\n",
      "\n",
      "Epoch 25; train loss: 0.74657\n",
      "Epoch 25; validation loss: 0.48551\n",
      "\n",
      "\n",
      "Epoch 26; train loss: 0.67577\n",
      "Epoch 26; validation loss: 0.6161\n",
      "\n",
      "\n",
      "Epoch 27; train loss: 0.71703\n",
      "Epoch 27; validation loss: 0.662\n",
      "\n",
      "Epoch 28; train loss: 0.76772\n",
      "Epoch 28; validation loss: 0.39759\n",
      "\n",
      "\n",
      "Epoch 29; train loss: 0.65455\n",
      "Epoch 29; validation loss: 0.41747\n",
      "\n",
      "\n",
      "Epoch 30; train loss: 0.75124\n",
      "Epoch 30; validation loss: 0.33342\n",
      "\n",
      "\n",
      "Epoch 31; train loss: 0.73605\n",
      "Epoch 31; validation loss: 0.84211\n",
      "\n",
      "\n",
      "Epoch 32; train loss: 0.67608\n",
      "Epoch 32; validation loss: 0.79925\n",
      "\n",
      "\n",
      "Epoch 33; train loss: 0.64964\n",
      "Epoch 33; validation loss: 0.57952\n",
      "\n",
      "\n",
      "Epoch 34; train loss: 0.67594\n",
      "Epoch 34; validation loss: 0.39821\n",
      "\n",
      "\n",
      "Epoch 35; train loss: 0.65035\n",
      "Epoch 35; validation loss: 0.84665\n",
      "\n",
      "\n",
      "Epoch 36; train loss: 0.6516\n",
      "Epoch 36; validation loss: 0.53006\n",
      "\n",
      "Epoch 37; train loss: 0.70235\n",
      "Epoch 37; validation loss: 0.38936\n",
      "\n",
      "\n",
      "Epoch 38; train loss: 0.64772\n",
      "Epoch 38; validation loss: 0.32659\n",
      "\n",
      "\n",
      "Epoch 39; train loss: 0.59045\n",
      "Epoch 39; validation loss: 0.33696\n",
      "\n",
      "\n",
      "Epoch 40; train loss: 0.67656\n",
      "Epoch 40; validation loss: 0.30157\n",
      "\n",
      "Epoch 41; train loss: 0.69651\n",
      "Epoch 41; validation loss: 0.3369\n",
      "\n",
      "\n",
      "Epoch 42; train loss: 0.64286\n",
      "Epoch 42; validation loss: 0.41709\n",
      "\n",
      "\n",
      "Epoch 43; train loss: 0.62772\n",
      "Epoch 43; validation loss: 0.98387\n",
      "\n",
      "\n",
      "Epoch 44; train loss: 0.7212\n",
      "Epoch 44; validation loss: 0.69782\n",
      "\n",
      "Epoch 45; train loss: 0.68839\n",
      "Epoch 45; validation loss: 0.82008\n",
      "\n",
      "\n",
      "Epoch 46; train loss: 0.59937\n",
      "Epoch 46; validation loss: 1.26549\n",
      "\n",
      "\n",
      "Epoch 47; train loss: 0.60302\n",
      "Epoch 47; validation loss: 1.10051\n",
      "\n",
      "\n",
      "Epoch 48; train loss: 0.69895\n",
      "Epoch 48; validation loss: 0.71019\n",
      "\n",
      "\n",
      "Epoch 49; train loss: 0.69967\n",
      "Epoch 49; validation loss: 0.53657\n",
      "\n",
      "Epoch 50; train loss: 0.61589\n",
      "Epoch 50; validation loss: 0.7997\n",
      "\n"
     ]
    }
   ],
   "source": [
    "import copy\n",
    "from models.LSTM import LSTM\n",
    "from modeling.Trainer import Trainer\n",
    "from models.CNN import CNN\n",
    "\n",
    "model = CNN(window_size=window_size, \n",
    "            num_features=num_features,\n",
    "            output_size=length_pred,\n",
    "            kernel_size=7, \n",
    "            num_conv=3,\n",
    "            padding=True,\n",
    "            channels=2,\n",
    "            hidden_size=50,\n",
    "            num_hidden_layers=2,\n",
    "            dropout=0.25\n",
    "            )\n",
    "\"\"\"\n",
    "\n",
    "model = LSTM(num_features = num_features,\n",
    "             output_size = 1,\n",
    "             num_LSTM_layers = 3,\n",
    "             num_hidden_layers = 2,\n",
    "             hidden_size = 200,\n",
    "             dropout=0.25\n",
    ")\n",
    "\n",
    "\"\"\"\n",
    "trainer = Trainer(copy.deepcopy(model), \n",
    "                  epochs = 50,\n",
    "                  learning_rate = 1e-4) \n",
    "\n",
    "trained_model = trainer.train(train_loader, val_loader, print_out=True)"
   ],
   "metadata": {
    "collapsed": false,
    "ExecuteTime": {
     "end_time": "2025-05-18T06:12:53.467659Z",
     "start_time": "2025-05-18T06:12:50.457637Z"
    }
   },
   "id": "4ebd126384369a2e",
   "execution_count": 43
  },
  {
   "cell_type": "code",
   "outputs": [
    {
     "name": "stdout",
     "output_type": "stream",
     "text": [
      "MSE:  8.777924537658691\n",
      "MAE: 1.9438362121582031\n"
     ]
    }
   ],
   "source": [
    "import torch\n",
    "predictor = Predictor(trained_model)\n",
    "\n",
    "predictions, targets = predictor.predict(test_loader)\n",
    "\n",
    "mse = torch.nn.functional.mse_loss(torch.tensor(predictions), torch.tensor(targets)).item()\n",
    "mae = torch.nn.functional.l1_loss(torch.tensor(predictions), torch.tensor(targets)).item()\n",
    "\n",
    "print(\"MSE: \", mse)\n",
    "print(\"MAE:\", mae)"
   ],
   "metadata": {
    "collapsed": false,
    "ExecuteTime": {
     "end_time": "2025-05-18T06:12:53.487893Z",
     "start_time": "2025-05-18T06:12:53.467659Z"
    }
   },
   "id": "1f25d9a5354b6273",
   "execution_count": 44
  },
  {
   "cell_type": "code",
   "outputs": [
    {
     "data": {
      "text/plain": "<Figure size 640x480 with 1 Axes>",
      "image/png": "[encoded data removed]"
     },
     "metadata": {},
     "output_type": "display_data"
    }
   ],
   "source": [
    "evolution = []\n",
    "for i in range(1,52):\n",
    "    mse = torch.nn.functional.mse_loss(torch.tensor(targets[i:]), torch.tensor(targets[:-i])).item()\n",
    "    evolution.append(mse)\n",
    "    \n",
    "x = range(len(evolution))\n",
    "\n",
    "plt.figure()\n",
    "plt.plot(x, evolution)\n",
    "\n",
    "plt.show()"
   ],
   "metadata": {
    "collapsed": false,
    "ExecuteTime": {
     "end_time": "2025-05-18T06:12:53.543231Z",
     "start_time": "2025-05-18T06:12:53.488932Z"
    }
   },
   "id": "e169ef874769f33c",
   "execution_count": 45
  },
  {
   "cell_type": "code",
   "outputs": [
    {
     "data": {
      "text/plain": "<Figure size 640x480 with 1 Axes>",
      "image/png": "[encoded data removed]"
     },
     "metadata": {},
     "output_type": "display_data"
    }
   ],
   "source": [
    "plt.figure()\n",
    "\n",
    "x = range(len(targets))\n",
    "plt.plot(x, targets, label='Targets')\n",
    "plt.plot(x, predictions, label = 'Prediction')\n",
    "plt.legend()\n",
    "plt.show()"
   ],
   "metadata": {
    "collapsed": false,
    "ExecuteTime": {
     "end_time": "2025-05-18T06:12:53.603232Z",
     "start_time": "2025-05-18T06:12:53.544235Z"
    }
   },
   "id": "e5ff4a7790d85e1b",
   "execution_count": 46
  },
  {
   "cell_type": "code",
   "outputs": [
    {
     "name": "stdout",
     "output_type": "stream",
     "text": [
      "Parameter Count of Network: 22159\n"
     ]
    }
   ],
   "source": [
    "total_params = sum(p.numel() for p in model.parameters())\n",
    "print(\"Parameter Count of Network:\", total_params)"
   ],
   "metadata": {
    "collapsed": false,
    "ExecuteTime": {
     "end_time": "2025-05-18T06:12:53.606836Z",
     "start_time": "2025-05-18T06:12:53.603232Z"
    }
   },
   "id": "7a18597188cc2330",
   "execution_count": 47
  },
  {
   "cell_type": "code",
   "outputs": [],
   "source": [],
   "metadata": {
    "collapsed": false,
    "ExecuteTime": {
     "end_time": "2025-05-18T06:12:53.609247Z",
     "start_time": "2025-05-18T06:12:53.606836Z"
    }
   },
   "id": "83c21399521791c1",
   "execution_count": 47
  },
  {
   "cell_type": "code",
   "outputs": [
    {
     "ename": "RuntimeError",
     "evalue": "Failed to run torchgraph see error message",
     "output_type": "error",
     "traceback": [
      "\u001B[1;31m---------------------------------------------------------------------------\u001B[0m",
      "\u001B[1;31mRuntimeError\u001B[0m                              Traceback (most recent call last)",
      "File \u001B[1;32m~\\anaconda3\\envs\\EvalVLM\\Lib\\site-packages\\torchview\\torchview.py:256\u001B[0m, in \u001B[0;36mforward_prop\u001B[1;34m(model, x, device, model_graph, mode, **kwargs)\u001B[0m\n\u001B[0;32m    255\u001B[0m \u001B[38;5;28;01mif\u001B[39;00m \u001B[38;5;28misinstance\u001B[39m(x, (\u001B[38;5;28mlist\u001B[39m, \u001B[38;5;28mtuple\u001B[39m)):\n\u001B[1;32m--> 256\u001B[0m     _ \u001B[38;5;241m=\u001B[39m model\u001B[38;5;241m.\u001B[39mto(device)(\u001B[38;5;241m*\u001B[39mx, \u001B[38;5;241m*\u001B[39m\u001B[38;5;241m*\u001B[39mkwargs)\n\u001B[0;32m    257\u001B[0m \u001B[38;5;28;01melif\u001B[39;00m \u001B[38;5;28misinstance\u001B[39m(x, Mapping):\n",
      "File \u001B[1;32m~\\anaconda3\\envs\\EvalVLM\\Lib\\site-packages\\torchview\\recorder_tensor.py:146\u001B[0m, in \u001B[0;36mmodule_forward_wrapper.<locals>._module_forward_wrapper\u001B[1;34m(mod, *args, **kwargs)\u001B[0m\n\u001B[0;32m    144\u001B[0m \u001B[38;5;66;03m# TODO: check if output contains RecorderTensor\u001B[39;00m\n\u001B[0;32m    145\u001B[0m \u001B[38;5;66;03m# this seems not to be necessary so far\u001B[39;00m\n\u001B[1;32m--> 146\u001B[0m out \u001B[38;5;241m=\u001B[39m _orig_module_forward(mod, \u001B[38;5;241m*\u001B[39margs, \u001B[38;5;241m*\u001B[39m\u001B[38;5;241m*\u001B[39mkwargs)\n\u001B[0;32m    148\u001B[0m model_graph\u001B[38;5;241m.\u001B[39mcontext_tracker[\u001B[38;5;124m'\u001B[39m\u001B[38;5;124mcurrent_depth\u001B[39m\u001B[38;5;124m'\u001B[39m] \u001B[38;5;241m=\u001B[39m cur_depth\n",
      "File \u001B[1;32m~\\anaconda3\\envs\\EvalVLM\\Lib\\site-packages\\torch\\nn\\modules\\module.py:1736\u001B[0m, in \u001B[0;36mModule._wrapped_call_impl\u001B[1;34m(self, *args, **kwargs)\u001B[0m\n\u001B[0;32m   1735\u001B[0m \u001B[38;5;28;01melse\u001B[39;00m:\n\u001B[1;32m-> 1736\u001B[0m     \u001B[38;5;28;01mreturn\u001B[39;00m \u001B[38;5;28mself\u001B[39m\u001B[38;5;241m.\u001B[39m_call_impl(\u001B[38;5;241m*\u001B[39margs, \u001B[38;5;241m*\u001B[39m\u001B[38;5;241m*\u001B[39mkwargs)\n",
      "File \u001B[1;32m~\\anaconda3\\envs\\EvalVLM\\Lib\\site-packages\\torch\\nn\\modules\\module.py:1747\u001B[0m, in \u001B[0;36mModule._call_impl\u001B[1;34m(self, *args, **kwargs)\u001B[0m\n\u001B[0;32m   1744\u001B[0m \u001B[38;5;28;01mif\u001B[39;00m \u001B[38;5;129;01mnot\u001B[39;00m (\u001B[38;5;28mself\u001B[39m\u001B[38;5;241m.\u001B[39m_backward_hooks \u001B[38;5;129;01mor\u001B[39;00m \u001B[38;5;28mself\u001B[39m\u001B[38;5;241m.\u001B[39m_backward_pre_hooks \u001B[38;5;129;01mor\u001B[39;00m \u001B[38;5;28mself\u001B[39m\u001B[38;5;241m.\u001B[39m_forward_hooks \u001B[38;5;129;01mor\u001B[39;00m \u001B[38;5;28mself\u001B[39m\u001B[38;5;241m.\u001B[39m_forward_pre_hooks\n\u001B[0;32m   1745\u001B[0m         \u001B[38;5;129;01mor\u001B[39;00m _global_backward_pre_hooks \u001B[38;5;129;01mor\u001B[39;00m _global_backward_hooks\n\u001B[0;32m   1746\u001B[0m         \u001B[38;5;129;01mor\u001B[39;00m _global_forward_hooks \u001B[38;5;129;01mor\u001B[39;00m _global_forward_pre_hooks):\n\u001B[1;32m-> 1747\u001B[0m     \u001B[38;5;28;01mreturn\u001B[39;00m forward_call(\u001B[38;5;241m*\u001B[39margs, \u001B[38;5;241m*\u001B[39m\u001B[38;5;241m*\u001B[39mkwargs)\n\u001B[0;32m   1749\u001B[0m result \u001B[38;5;241m=\u001B[39m \u001B[38;5;28;01mNone\u001B[39;00m\n",
      "File \u001B[1;32m~\\OneDrive\\Studium\\8. Semester\\Investments Quantitative Tools\\Project Investments Quantitative Meethods\\models\\CNN.py:65\u001B[0m, in \u001B[0;36mCNN.forward\u001B[1;34m(self, x)\u001B[0m\n\u001B[0;32m     63\u001B[0m x \u001B[38;5;241m=\u001B[39m torch\u001B[38;5;241m.\u001B[39mflatten(x, start_dim\u001B[38;5;241m=\u001B[39m\u001B[38;5;241m1\u001B[39m)\n\u001B[1;32m---> 65\u001B[0m \u001B[38;5;28;01mreturn\u001B[39;00m \u001B[38;5;28mself\u001B[39m\u001B[38;5;241m.\u001B[39mmlp(x)\n",
      "File \u001B[1;32m~\\anaconda3\\envs\\EvalVLM\\Lib\\site-packages\\torchview\\recorder_tensor.py:146\u001B[0m, in \u001B[0;36mmodule_forward_wrapper.<locals>._module_forward_wrapper\u001B[1;34m(mod, *args, **kwargs)\u001B[0m\n\u001B[0;32m    144\u001B[0m \u001B[38;5;66;03m# TODO: check if output contains RecorderTensor\u001B[39;00m\n\u001B[0;32m    145\u001B[0m \u001B[38;5;66;03m# this seems not to be necessary so far\u001B[39;00m\n\u001B[1;32m--> 146\u001B[0m out \u001B[38;5;241m=\u001B[39m _orig_module_forward(mod, \u001B[38;5;241m*\u001B[39margs, \u001B[38;5;241m*\u001B[39m\u001B[38;5;241m*\u001B[39mkwargs)\n\u001B[0;32m    148\u001B[0m model_graph\u001B[38;5;241m.\u001B[39mcontext_tracker[\u001B[38;5;124m'\u001B[39m\u001B[38;5;124mcurrent_depth\u001B[39m\u001B[38;5;124m'\u001B[39m] \u001B[38;5;241m=\u001B[39m cur_depth\n",
      "File \u001B[1;32m~\\anaconda3\\envs\\EvalVLM\\Lib\\site-packages\\torch\\nn\\modules\\module.py:1736\u001B[0m, in \u001B[0;36mModule._wrapped_call_impl\u001B[1;34m(self, *args, **kwargs)\u001B[0m\n\u001B[0;32m   1735\u001B[0m \u001B[38;5;28;01melse\u001B[39;00m:\n\u001B[1;32m-> 1736\u001B[0m     \u001B[38;5;28;01mreturn\u001B[39;00m \u001B[38;5;28mself\u001B[39m\u001B[38;5;241m.\u001B[39m_call_impl(\u001B[38;5;241m*\u001B[39margs, \u001B[38;5;241m*\u001B[39m\u001B[38;5;241m*\u001B[39mkwargs)\n",
      "File \u001B[1;32m~\\anaconda3\\envs\\EvalVLM\\Lib\\site-packages\\torch\\nn\\modules\\module.py:1747\u001B[0m, in \u001B[0;36mModule._call_impl\u001B[1;34m(self, *args, **kwargs)\u001B[0m\n\u001B[0;32m   1744\u001B[0m \u001B[38;5;28;01mif\u001B[39;00m \u001B[38;5;129;01mnot\u001B[39;00m (\u001B[38;5;28mself\u001B[39m\u001B[38;5;241m.\u001B[39m_backward_hooks \u001B[38;5;129;01mor\u001B[39;00m \u001B[38;5;28mself\u001B[39m\u001B[38;5;241m.\u001B[39m_backward_pre_hooks \u001B[38;5;129;01mor\u001B[39;00m \u001B[38;5;28mself\u001B[39m\u001B[38;5;241m.\u001B[39m_forward_hooks \u001B[38;5;129;01mor\u001B[39;00m \u001B[38;5;28mself\u001B[39m\u001B[38;5;241m.\u001B[39m_forward_pre_hooks\n\u001B[0;32m   1745\u001B[0m         \u001B[38;5;129;01mor\u001B[39;00m _global_backward_pre_hooks \u001B[38;5;129;01mor\u001B[39;00m _global_backward_hooks\n\u001B[0;32m   1746\u001B[0m         \u001B[38;5;129;01mor\u001B[39;00m _global_forward_hooks \u001B[38;5;129;01mor\u001B[39;00m _global_forward_pre_hooks):\n\u001B[1;32m-> 1747\u001B[0m     \u001B[38;5;28;01mreturn\u001B[39;00m forward_call(\u001B[38;5;241m*\u001B[39margs, \u001B[38;5;241m*\u001B[39m\u001B[38;5;241m*\u001B[39mkwargs)\n\u001B[0;32m   1749\u001B[0m result \u001B[38;5;241m=\u001B[39m \u001B[38;5;28;01mNone\u001B[39;00m\n",
      "File \u001B[1;32m~\\OneDrive\\Studium\\8. Semester\\Investments Quantitative Tools\\Project Investments Quantitative Meethods\\models\\BaseMLP.py:36\u001B[0m, in \u001B[0;36mBaseMLP.forward\u001B[1;34m(self, x)\u001B[0m\n\u001B[0;32m     35\u001B[0m \u001B[38;5;28;01mdef\u001B[39;00m \u001B[38;5;21mforward\u001B[39m(\u001B[38;5;28mself\u001B[39m, x):\n\u001B[1;32m---> 36\u001B[0m     \u001B[38;5;28;01mreturn\u001B[39;00m \u001B[38;5;28mself\u001B[39m\u001B[38;5;241m.\u001B[39mlayers(x)\n",
      "File \u001B[1;32m~\\anaconda3\\envs\\EvalVLM\\Lib\\site-packages\\torchview\\recorder_tensor.py:146\u001B[0m, in \u001B[0;36mmodule_forward_wrapper.<locals>._module_forward_wrapper\u001B[1;34m(mod, *args, **kwargs)\u001B[0m\n\u001B[0;32m    144\u001B[0m \u001B[38;5;66;03m# TODO: check if output contains RecorderTensor\u001B[39;00m\n\u001B[0;32m    145\u001B[0m \u001B[38;5;66;03m# this seems not to be necessary so far\u001B[39;00m\n\u001B[1;32m--> 146\u001B[0m out \u001B[38;5;241m=\u001B[39m _orig_module_forward(mod, \u001B[38;5;241m*\u001B[39margs, \u001B[38;5;241m*\u001B[39m\u001B[38;5;241m*\u001B[39mkwargs)\n\u001B[0;32m    148\u001B[0m model_graph\u001B[38;5;241m.\u001B[39mcontext_tracker[\u001B[38;5;124m'\u001B[39m\u001B[38;5;124mcurrent_depth\u001B[39m\u001B[38;5;124m'\u001B[39m] \u001B[38;5;241m=\u001B[39m cur_depth\n",
      "File \u001B[1;32m~\\anaconda3\\envs\\EvalVLM\\Lib\\site-packages\\torch\\nn\\modules\\module.py:1736\u001B[0m, in \u001B[0;36mModule._wrapped_call_impl\u001B[1;34m(self, *args, **kwargs)\u001B[0m\n\u001B[0;32m   1735\u001B[0m \u001B[38;5;28;01melse\u001B[39;00m:\n\u001B[1;32m-> 1736\u001B[0m     \u001B[38;5;28;01mreturn\u001B[39;00m \u001B[38;5;28mself\u001B[39m\u001B[38;5;241m.\u001B[39m_call_impl(\u001B[38;5;241m*\u001B[39margs, \u001B[38;5;241m*\u001B[39m\u001B[38;5;241m*\u001B[39mkwargs)\n",
      "File \u001B[1;32m~\\anaconda3\\envs\\EvalVLM\\Lib\\site-packages\\torch\\nn\\modules\\module.py:1747\u001B[0m, in \u001B[0;36mModule._call_impl\u001B[1;34m(self, *args, **kwargs)\u001B[0m\n\u001B[0;32m   1744\u001B[0m \u001B[38;5;28;01mif\u001B[39;00m \u001B[38;5;129;01mnot\u001B[39;00m (\u001B[38;5;28mself\u001B[39m\u001B[38;5;241m.\u001B[39m_backward_hooks \u001B[38;5;129;01mor\u001B[39;00m \u001B[38;5;28mself\u001B[39m\u001B[38;5;241m.\u001B[39m_backward_pre_hooks \u001B[38;5;129;01mor\u001B[39;00m \u001B[38;5;28mself\u001B[39m\u001B[38;5;241m.\u001B[39m_forward_hooks \u001B[38;5;129;01mor\u001B[39;00m \u001B[38;5;28mself\u001B[39m\u001B[38;5;241m.\u001B[39m_forward_pre_hooks\n\u001B[0;32m   1745\u001B[0m         \u001B[38;5;129;01mor\u001B[39;00m _global_backward_pre_hooks \u001B[38;5;129;01mor\u001B[39;00m _global_backward_hooks\n\u001B[0;32m   1746\u001B[0m         \u001B[38;5;129;01mor\u001B[39;00m _global_forward_hooks \u001B[38;5;129;01mor\u001B[39;00m _global_forward_pre_hooks):\n\u001B[1;32m-> 1747\u001B[0m     \u001B[38;5;28;01mreturn\u001B[39;00m forward_call(\u001B[38;5;241m*\u001B[39margs, \u001B[38;5;241m*\u001B[39m\u001B[38;5;241m*\u001B[39mkwargs)\n\u001B[0;32m   1749\u001B[0m result \u001B[38;5;241m=\u001B[39m \u001B[38;5;28;01mNone\u001B[39;00m\n",
      "File \u001B[1;32m~\\anaconda3\\envs\\EvalVLM\\Lib\\site-packages\\torch\\nn\\modules\\container.py:250\u001B[0m, in \u001B[0;36mSequential.forward\u001B[1;34m(self, input)\u001B[0m\n\u001B[0;32m    249\u001B[0m \u001B[38;5;28;01mfor\u001B[39;00m module \u001B[38;5;129;01min\u001B[39;00m \u001B[38;5;28mself\u001B[39m:\n\u001B[1;32m--> 250\u001B[0m     \u001B[38;5;28minput\u001B[39m \u001B[38;5;241m=\u001B[39m module(\u001B[38;5;28minput\u001B[39m)\n\u001B[0;32m    251\u001B[0m \u001B[38;5;28;01mreturn\u001B[39;00m \u001B[38;5;28minput\u001B[39m\n",
      "File \u001B[1;32m~\\anaconda3\\envs\\EvalVLM\\Lib\\site-packages\\torchview\\recorder_tensor.py:146\u001B[0m, in \u001B[0;36mmodule_forward_wrapper.<locals>._module_forward_wrapper\u001B[1;34m(mod, *args, **kwargs)\u001B[0m\n\u001B[0;32m    144\u001B[0m \u001B[38;5;66;03m# TODO: check if output contains RecorderTensor\u001B[39;00m\n\u001B[0;32m    145\u001B[0m \u001B[38;5;66;03m# this seems not to be necessary so far\u001B[39;00m\n\u001B[1;32m--> 146\u001B[0m out \u001B[38;5;241m=\u001B[39m _orig_module_forward(mod, \u001B[38;5;241m*\u001B[39margs, \u001B[38;5;241m*\u001B[39m\u001B[38;5;241m*\u001B[39mkwargs)\n\u001B[0;32m    148\u001B[0m model_graph\u001B[38;5;241m.\u001B[39mcontext_tracker[\u001B[38;5;124m'\u001B[39m\u001B[38;5;124mcurrent_depth\u001B[39m\u001B[38;5;124m'\u001B[39m] \u001B[38;5;241m=\u001B[39m cur_depth\n",
      "File \u001B[1;32m~\\anaconda3\\envs\\EvalVLM\\Lib\\site-packages\\torch\\nn\\modules\\module.py:1736\u001B[0m, in \u001B[0;36mModule._wrapped_call_impl\u001B[1;34m(self, *args, **kwargs)\u001B[0m\n\u001B[0;32m   1735\u001B[0m \u001B[38;5;28;01melse\u001B[39;00m:\n\u001B[1;32m-> 1736\u001B[0m     \u001B[38;5;28;01mreturn\u001B[39;00m \u001B[38;5;28mself\u001B[39m\u001B[38;5;241m.\u001B[39m_call_impl(\u001B[38;5;241m*\u001B[39margs, \u001B[38;5;241m*\u001B[39m\u001B[38;5;241m*\u001B[39mkwargs)\n",
      "File \u001B[1;32m~\\anaconda3\\envs\\EvalVLM\\Lib\\site-packages\\torch\\nn\\modules\\module.py:1747\u001B[0m, in \u001B[0;36mModule._call_impl\u001B[1;34m(self, *args, **kwargs)\u001B[0m\n\u001B[0;32m   1744\u001B[0m \u001B[38;5;28;01mif\u001B[39;00m \u001B[38;5;129;01mnot\u001B[39;00m (\u001B[38;5;28mself\u001B[39m\u001B[38;5;241m.\u001B[39m_backward_hooks \u001B[38;5;129;01mor\u001B[39;00m \u001B[38;5;28mself\u001B[39m\u001B[38;5;241m.\u001B[39m_backward_pre_hooks \u001B[38;5;129;01mor\u001B[39;00m \u001B[38;5;28mself\u001B[39m\u001B[38;5;241m.\u001B[39m_forward_hooks \u001B[38;5;129;01mor\u001B[39;00m \u001B[38;5;28mself\u001B[39m\u001B[38;5;241m.\u001B[39m_forward_pre_hooks\n\u001B[0;32m   1745\u001B[0m         \u001B[38;5;129;01mor\u001B[39;00m _global_backward_pre_hooks \u001B[38;5;129;01mor\u001B[39;00m _global_backward_hooks\n\u001B[0;32m   1746\u001B[0m         \u001B[38;5;129;01mor\u001B[39;00m _global_forward_hooks \u001B[38;5;129;01mor\u001B[39;00m _global_forward_pre_hooks):\n\u001B[1;32m-> 1747\u001B[0m     \u001B[38;5;28;01mreturn\u001B[39;00m forward_call(\u001B[38;5;241m*\u001B[39margs, \u001B[38;5;241m*\u001B[39m\u001B[38;5;241m*\u001B[39mkwargs)\n\u001B[0;32m   1749\u001B[0m result \u001B[38;5;241m=\u001B[39m \u001B[38;5;28;01mNone\u001B[39;00m\n",
      "File \u001B[1;32m~\\anaconda3\\envs\\EvalVLM\\Lib\\site-packages\\torch\\nn\\modules\\container.py:250\u001B[0m, in \u001B[0;36mSequential.forward\u001B[1;34m(self, input)\u001B[0m\n\u001B[0;32m    249\u001B[0m \u001B[38;5;28;01mfor\u001B[39;00m module \u001B[38;5;129;01min\u001B[39;00m \u001B[38;5;28mself\u001B[39m:\n\u001B[1;32m--> 250\u001B[0m     \u001B[38;5;28minput\u001B[39m \u001B[38;5;241m=\u001B[39m module(\u001B[38;5;28minput\u001B[39m)\n\u001B[0;32m    251\u001B[0m \u001B[38;5;28;01mreturn\u001B[39;00m \u001B[38;5;28minput\u001B[39m\n",
      "File \u001B[1;32m~\\anaconda3\\envs\\EvalVLM\\Lib\\site-packages\\torchview\\recorder_tensor.py:146\u001B[0m, in \u001B[0;36mmodule_forward_wrapper.<locals>._module_forward_wrapper\u001B[1;34m(mod, *args, **kwargs)\u001B[0m\n\u001B[0;32m    144\u001B[0m \u001B[38;5;66;03m# TODO: check if output contains RecorderTensor\u001B[39;00m\n\u001B[0;32m    145\u001B[0m \u001B[38;5;66;03m# this seems not to be necessary so far\u001B[39;00m\n\u001B[1;32m--> 146\u001B[0m out \u001B[38;5;241m=\u001B[39m _orig_module_forward(mod, \u001B[38;5;241m*\u001B[39margs, \u001B[38;5;241m*\u001B[39m\u001B[38;5;241m*\u001B[39mkwargs)\n\u001B[0;32m    148\u001B[0m model_graph\u001B[38;5;241m.\u001B[39mcontext_tracker[\u001B[38;5;124m'\u001B[39m\u001B[38;5;124mcurrent_depth\u001B[39m\u001B[38;5;124m'\u001B[39m] \u001B[38;5;241m=\u001B[39m cur_depth\n",
      "File \u001B[1;32m~\\anaconda3\\envs\\EvalVLM\\Lib\\site-packages\\torch\\nn\\modules\\module.py:1736\u001B[0m, in \u001B[0;36mModule._wrapped_call_impl\u001B[1;34m(self, *args, **kwargs)\u001B[0m\n\u001B[0;32m   1735\u001B[0m \u001B[38;5;28;01melse\u001B[39;00m:\n\u001B[1;32m-> 1736\u001B[0m     \u001B[38;5;28;01mreturn\u001B[39;00m \u001B[38;5;28mself\u001B[39m\u001B[38;5;241m.\u001B[39m_call_impl(\u001B[38;5;241m*\u001B[39margs, \u001B[38;5;241m*\u001B[39m\u001B[38;5;241m*\u001B[39mkwargs)\n",
      "File \u001B[1;32m~\\anaconda3\\envs\\EvalVLM\\Lib\\site-packages\\torch\\nn\\modules\\module.py:1747\u001B[0m, in \u001B[0;36mModule._call_impl\u001B[1;34m(self, *args, **kwargs)\u001B[0m\n\u001B[0;32m   1744\u001B[0m \u001B[38;5;28;01mif\u001B[39;00m \u001B[38;5;129;01mnot\u001B[39;00m (\u001B[38;5;28mself\u001B[39m\u001B[38;5;241m.\u001B[39m_backward_hooks \u001B[38;5;129;01mor\u001B[39;00m \u001B[38;5;28mself\u001B[39m\u001B[38;5;241m.\u001B[39m_backward_pre_hooks \u001B[38;5;129;01mor\u001B[39;00m \u001B[38;5;28mself\u001B[39m\u001B[38;5;241m.\u001B[39m_forward_hooks \u001B[38;5;129;01mor\u001B[39;00m \u001B[38;5;28mself\u001B[39m\u001B[38;5;241m.\u001B[39m_forward_pre_hooks\n\u001B[0;32m   1745\u001B[0m         \u001B[38;5;129;01mor\u001B[39;00m _global_backward_pre_hooks \u001B[38;5;129;01mor\u001B[39;00m _global_backward_hooks\n\u001B[0;32m   1746\u001B[0m         \u001B[38;5;129;01mor\u001B[39;00m _global_forward_hooks \u001B[38;5;129;01mor\u001B[39;00m _global_forward_pre_hooks):\n\u001B[1;32m-> 1747\u001B[0m     \u001B[38;5;28;01mreturn\u001B[39;00m forward_call(\u001B[38;5;241m*\u001B[39margs, \u001B[38;5;241m*\u001B[39m\u001B[38;5;241m*\u001B[39mkwargs)\n\u001B[0;32m   1749\u001B[0m result \u001B[38;5;241m=\u001B[39m \u001B[38;5;28;01mNone\u001B[39;00m\n",
      "File \u001B[1;32m~\\anaconda3\\envs\\EvalVLM\\Lib\\site-packages\\torch\\nn\\modules\\linear.py:125\u001B[0m, in \u001B[0;36mLinear.forward\u001B[1;34m(self, input)\u001B[0m\n\u001B[0;32m    124\u001B[0m \u001B[38;5;28;01mdef\u001B[39;00m \u001B[38;5;21mforward\u001B[39m(\u001B[38;5;28mself\u001B[39m, \u001B[38;5;28minput\u001B[39m: Tensor) \u001B[38;5;241m-\u001B[39m\u001B[38;5;241m>\u001B[39m Tensor:\n\u001B[1;32m--> 125\u001B[0m     \u001B[38;5;28;01mreturn\u001B[39;00m F\u001B[38;5;241m.\u001B[39mlinear(\u001B[38;5;28minput\u001B[39m, \u001B[38;5;28mself\u001B[39m\u001B[38;5;241m.\u001B[39mweight, \u001B[38;5;28mself\u001B[39m\u001B[38;5;241m.\u001B[39mbias)\n",
      "File \u001B[1;32m~\\anaconda3\\envs\\EvalVLM\\Lib\\site-packages\\torchview\\recorder_tensor.py:236\u001B[0m, in \u001B[0;36mRecorderTensor.__torch_function__\u001B[1;34m(cls, func, types, args, kwargs)\u001B[0m\n\u001B[0;32m    235\u001B[0m \u001B[38;5;28;01mif\u001B[39;00m func \u001B[38;5;129;01min\u001B[39;00m [F\u001B[38;5;241m.\u001B[39mlinear, F\u001B[38;5;241m.\u001B[39membedding]:\n\u001B[1;32m--> 236\u001B[0m     out \u001B[38;5;241m=\u001B[39m nn\u001B[38;5;241m.\u001B[39mparameter\u001B[38;5;241m.\u001B[39mParameter\u001B[38;5;241m.\u001B[39m__torch_function__(\n\u001B[0;32m    237\u001B[0m         func, types, args, kwargs)\u001B[38;5;241m.\u001B[39mas_subclass(RecorderTensor)\n\u001B[0;32m    238\u001B[0m \u001B[38;5;28;01melse\u001B[39;00m:\n\u001B[0;32m    239\u001B[0m     \u001B[38;5;66;03m# use original torch_function; otherwise,\u001B[39;00m\n\u001B[0;32m    240\u001B[0m     \u001B[38;5;66;03m# it leads to infinite recursive call of torch_function\u001B[39;00m\n",
      "\u001B[1;31mRuntimeError\u001B[0m: mat1 and mat2 shapes cannot be multiplied (100x48 and 416x50)",
      "\nThe above exception was the direct cause of the following exception:\n",
      "\u001B[1;31mRuntimeError\u001B[0m                              Traceback (most recent call last)",
      "Cell \u001B[1;32mIn[48], line 5\u001B[0m\n\u001B[0;32m      1\u001B[0m \u001B[38;5;28;01mfrom\u001B[39;00m \u001B[38;5;21;01mtorchview\u001B[39;00m \u001B[38;5;28;01mimport\u001B[39;00m torchview\n\u001B[0;32m      3\u001B[0m model\u001B[38;5;241m.\u001B[39meval()\n\u001B[1;32m----> 5\u001B[0m model_graph \u001B[38;5;241m=\u001B[39m torchview\u001B[38;5;241m.\u001B[39mdraw_graph(model, input_size\u001B[38;5;241m=\u001B[39m(\u001B[38;5;241m100\u001B[39m, \u001B[38;5;241m1\u001B[39m, \u001B[38;5;241m24\u001B[39m, \u001B[38;5;241m1\u001B[39m))\n\u001B[0;32m      7\u001B[0m total_params \u001B[38;5;241m=\u001B[39m \u001B[38;5;28msum\u001B[39m(p\u001B[38;5;241m.\u001B[39mnumel() \u001B[38;5;28;01mfor\u001B[39;00m p \u001B[38;5;129;01min\u001B[39;00m model\u001B[38;5;241m.\u001B[39mparameters())\n\u001B[0;32m      8\u001B[0m \u001B[38;5;28mprint\u001B[39m(\u001B[38;5;124m\"\u001B[39m\u001B[38;5;124mParameter Count of Network:\u001B[39m\u001B[38;5;124m\"\u001B[39m, total_params)\n",
      "File \u001B[1;32m~\\anaconda3\\envs\\EvalVLM\\Lib\\site-packages\\torchview\\torchview.py:220\u001B[0m, in \u001B[0;36mdraw_graph\u001B[1;34m(model, input_data, input_size, graph_name, depth, device, dtypes, mode, strict, expand_nested, graph_dir, hide_module_functions, hide_inner_tensors, roll, show_shapes, save_graph, filename, directory, **kwargs)\u001B[0m\n\u001B[0;32m    211\u001B[0m input_recorder_tensor, kwargs_record_tensor, input_nodes \u001B[38;5;241m=\u001B[39m process_input(\n\u001B[0;32m    212\u001B[0m     input_data, input_size, kwargs, device, dtypes\n\u001B[0;32m    213\u001B[0m )\n\u001B[0;32m    215\u001B[0m model_graph \u001B[38;5;241m=\u001B[39m ComputationGraph(\n\u001B[0;32m    216\u001B[0m     visual_graph, input_nodes, show_shapes, expand_nested,\n\u001B[0;32m    217\u001B[0m     hide_inner_tensors, hide_module_functions, roll, depth\n\u001B[0;32m    218\u001B[0m )\n\u001B[1;32m--> 220\u001B[0m forward_prop(\n\u001B[0;32m    221\u001B[0m     model, input_recorder_tensor, device, model_graph,\n\u001B[0;32m    222\u001B[0m     model_mode, \u001B[38;5;241m*\u001B[39m\u001B[38;5;241m*\u001B[39mkwargs_record_tensor\n\u001B[0;32m    223\u001B[0m )\n\u001B[0;32m    225\u001B[0m model_graph\u001B[38;5;241m.\u001B[39mfill_visual_graph()\n\u001B[0;32m    227\u001B[0m \u001B[38;5;28;01mif\u001B[39;00m save_graph:\n",
      "File \u001B[1;32m~\\anaconda3\\envs\\EvalVLM\\Lib\\site-packages\\torchview\\torchview.py:264\u001B[0m, in \u001B[0;36mforward_prop\u001B[1;34m(model, x, device, model_graph, mode, **kwargs)\u001B[0m\n\u001B[0;32m    262\u001B[0m                 \u001B[38;5;28;01mraise\u001B[39;00m \u001B[38;5;167;01mValueError\u001B[39;00m(\u001B[38;5;124m\"\u001B[39m\u001B[38;5;124mUnknown input type\u001B[39m\u001B[38;5;124m\"\u001B[39m)\n\u001B[0;32m    263\u001B[0m \u001B[38;5;28;01mexcept\u001B[39;00m \u001B[38;5;167;01mException\u001B[39;00m \u001B[38;5;28;01mas\u001B[39;00m e:\n\u001B[1;32m--> 264\u001B[0m     \u001B[38;5;28;01mraise\u001B[39;00m \u001B[38;5;167;01mRuntimeError\u001B[39;00m(\n\u001B[0;32m    265\u001B[0m         \u001B[38;5;124m\"\u001B[39m\u001B[38;5;124mFailed to run torchgraph see error message\u001B[39m\u001B[38;5;124m\"\u001B[39m\n\u001B[0;32m    266\u001B[0m     ) \u001B[38;5;28;01mfrom\u001B[39;00m \u001B[38;5;21;01me\u001B[39;00m\n\u001B[0;32m    267\u001B[0m \u001B[38;5;28;01mfinally\u001B[39;00m:\n\u001B[0;32m    268\u001B[0m     model\u001B[38;5;241m.\u001B[39mtrain(saved_model_mode)\n",
      "\u001B[1;31mRuntimeError\u001B[0m: Failed to run torchgraph see error message"
     ]
    }
   ],
   "source": [
    "from torchview import torchview\n",
    "\n",
    "model.eval()\n",
    "\n",
    "model_graph = torchview.draw_graph(model, input_size=(100, 1, 24, 1))\n",
    "\n",
    "total_params = sum(p.numel() for p in model.parameters())\n",
    "print(\"Parameter Count of Network:\", total_params)\n",
    "print(\"\\n\")\n",
    "\n",
    "model_graph.visual_graph"
   ],
   "metadata": {
    "collapsed": false,
    "ExecuteTime": {
     "end_time": "2025-05-18T06:12:53.760753Z",
     "start_time": "2025-05-18T06:12:53.609247Z"
    }
   },
   "id": "6700381c432be73c",
   "execution_count": 48
  },
  {
   "cell_type": "code",
   "outputs": [],
   "source": [
    "chart_values = [100 for i in range(look_ahead)]\n",
    "chart_preds = [100 for i in range(look_ahead)]\n",
    "\n",
    "for r in targets:\n",
    "  chart_values.append(chart_values[-look_ahead]*(1+r))\n",
    "\n",
    "for i, p in enumerate(predictions):\n",
    "  chart_preds.append(chart_values[i]*(1+p))\n",
    "\n",
    "\n",
    "naive_prediction = chart_values[:-look_ahead]\n",
    "\n",
    "chart_preds = chart_preds[look_ahead:]\n",
    "chart_values = chart_values[look_ahead:]\n",
    "\n",
    "assert len(chart_preds) == len(chart_values)\n",
    "assert len(naive_prediction) == len(chart_values)\n",
    "\n",
    "x = range(len(chart_preds))\n",
    "\n",
    "plt.figure()\n",
    "plt.plot(x, chart_preds, color = 'orange')\n",
    "plt.plot(x, chart_values, color = 'blue')\n",
    "plt.show()"
   ],
   "metadata": {
    "collapsed": false
   },
   "id": "7a71a100d572a2e7",
   "execution_count": null
  },
  {
   "cell_type": "code",
   "outputs": [],
   "source": [],
   "metadata": {
    "collapsed": false,
    "ExecuteTime": {
     "start_time": "2025-05-18T06:12:53.761783Z"
    }
   },
   "id": "ccbe6ebbcf3fe763",
   "execution_count": null
  },
  {
   "cell_type": "code",
   "outputs": [],
   "source": [
    "plt.figure()\n",
    "plt.hist(np.array(predictions)*100, bins=20, density=True, histtype = 'step', color = 'orange')\n",
    "plt.hist(np.array(targets)*100, bins=20, density=True, histtype = 'step', color = 'blue')\n",
    "plt.ylim(top=.5)\n",
    "plt.show()"
   ],
   "metadata": {
    "collapsed": false,
    "ExecuteTime": {
     "start_time": "2025-05-18T06:12:53.762876Z"
    }
   },
   "id": "e5a93198575410d7",
   "execution_count": null
  },
  {
   "cell_type": "code",
   "outputs": [],
   "source": [
    "plt.figure()\n",
    "\n",
    "x = range(len(targets))\n",
    "plt.plot(x, targets, label='Targets')\n",
    "plt.plot(x, predictions, label = 'Prediction')\n",
    "plt.legend()\n",
    "plt.show()"
   ],
   "metadata": {
    "collapsed": false,
    "ExecuteTime": {
     "start_time": "2025-05-18T06:12:53.762876Z"
    }
   },
   "id": "127a4d1cec39ec35",
   "execution_count": null
  },
  {
   "cell_type": "code",
   "outputs": [],
   "source": [
    "print(bob in people) "
   ],
   "metadata": {
    "collapsed": false,
    "ExecuteTime": {
     "start_time": "2025-05-18T06:12:53.763878Z"
    }
   },
   "id": "cbd2e940b0b08168",
   "execution_count": null
  },
  {
   "cell_type": "code",
   "outputs": [],
   "source": [],
   "metadata": {
    "collapsed": false,
    "ExecuteTime": {
     "start_time": "2025-05-18T06:12:53.763878Z"
    }
   },
   "id": "99d90c4307ca6682"
  }
 ],
 "metadata": {
  "kernelspec": {
   "display_name": "Python 3",
   "language": "python",
   "name": "python3"
  },
  "language_info": {
   "codemirror_mode": {
    "name": "ipython",
    "version": 2
   },
   "file_extension": ".py",
   "mimetype": "text/x-python",
   "name": "python",
   "nbconvert_exporter": "python",
   "pygments_lexer": "ipython2",
   "version": "2.7.6"
  }
 },
 "nbformat": 4,
 "nbformat_minor": 5
}
