{
 "cells": [
  {
   "cell_type": "markdown",
   "source": [
    "# Feature Selection"
   ],
   "metadata": {
    "collapsed": false
   },
   "id": "e786d208ecb486a8"
  },
  {
   "cell_type": "code",
   "outputs": [],
   "source": [
    "import copy\n",
    "\n",
    "from feature_search.SearchNodes import SearchNodeAdding\n",
    "import configuration\n",
    "from feature_search.SplitConfig import SplitConfig\n",
    "from feature_search.ModelConfig import ModelConfigCNN\n",
    "from modeling.Trainer import Trainer"
   ],
   "metadata": {
    "collapsed": false,
    "ExecuteTime": {
     "end_time": "2025-06-23T21:25:01.212207Z",
     "start_time": "2025-06-23T21:24:58.621587Z"
    }
   },
   "id": "1c0de9a4460a3dfd",
   "execution_count": 1
  },
  {
   "cell_type": "code",
   "outputs": [],
   "source": [
    "from data_loading import load_data\n",
    "\n",
    "data = load_data()"
   ],
   "metadata": {
    "collapsed": false,
    "ExecuteTime": {
     "end_time": "2025-06-23T21:25:01.229551Z",
     "start_time": "2025-06-23T21:25:01.213215Z"
    }
   },
   "id": "3ce00635ef952ab8",
   "execution_count": 2
  },
  {
   "cell_type": "code",
   "outputs": [
    {
     "name": "stdout",
     "output_type": "stream",
     "text": [
      "<class 'pandas.core.frame.DataFrame'>\n",
      "RangeIndex: 1883 entries, 0 to 1882\n",
      "Data columns (total 31 columns):\n",
      " #   Column  Non-Null Count  Dtype         \n",
      "---  ------  --------------  -----         \n",
      " 0   Date    1883 non-null   datetime64[ns]\n",
      " 1   EMP     1883 non-null   float64       \n",
      " 2   PE      1883 non-null   float64       \n",
      " 3   CAPE    1883 non-null   float64       \n",
      " 4   DY      1883 non-null   float64       \n",
      " 5   Rho     1883 non-null   float64       \n",
      " 6   MOV     1883 non-null   float64       \n",
      " 7   IR      1883 non-null   float64       \n",
      " 8   RR      1883 non-null   float64       \n",
      " 9   Y02     1883 non-null   float64       \n",
      " 10  Y10     1883 non-null   float64       \n",
      " 11  STP     1883 non-null   float64       \n",
      " 12  CF      1883 non-null   float64       \n",
      " 13  MG      1883 non-null   float64       \n",
      " 14  RV      1883 non-null   float64       \n",
      " 15  ED      1883 non-null   float64       \n",
      " 16  UN      1883 non-null   float64       \n",
      " 17  GDP     1883 non-null   float64       \n",
      " 18  M2      1883 non-null   float64       \n",
      " 19  CPI     1883 non-null   float64       \n",
      " 20  DIL     1883 non-null   float64       \n",
      " 21  YSS     1883 non-null   float64       \n",
      " 22  NYF     1883 non-null   float64       \n",
      " 23  _AU     1883 non-null   float64       \n",
      " 24  _DXY    1883 non-null   float64       \n",
      " 25  _LCP    1883 non-null   float64       \n",
      " 26  _TY     1883 non-null   float64       \n",
      " 27  _OIL    1883 non-null   float64       \n",
      " 28  _MKT    1883 non-null   float64       \n",
      " 29  _VA     1883 non-null   float64       \n",
      " 30  _GR     1883 non-null   float64       \n",
      "dtypes: datetime64[ns](1), float64(30)\n",
      "memory usage: 456.2 KB\n"
     ]
    }
   ],
   "source": [
    "data.info()"
   ],
   "metadata": {
    "collapsed": false,
    "ExecuteTime": {
     "end_time": "2025-06-23T21:25:01.237821Z",
     "start_time": "2025-06-23T21:25:01.229551Z"
    }
   },
   "id": "1173578aaf563df9",
   "execution_count": 3
  },
  {
   "cell_type": "code",
   "execution_count": 4,
   "id": "initial_id",
   "metadata": {
    "collapsed": true,
    "ExecuteTime": {
     "end_time": "2025-06-23T21:25:01.241585Z",
     "start_time": "2025-06-23T21:25:01.237821Z"
    }
   },
   "outputs": [],
   "source": [
    "window_size = 52\n",
    "look_ahead = 4\n",
    "\n",
    "model_config = ModelConfigCNN(window_size=window_size,\n",
    "                              num_features= 1,\n",
    "                              output_size=1,\n",
    "                              num_conv = 3,\n",
    "                              kernel_size = 9,\n",
    "                              channels=2,\n",
    "                              padding=True,\n",
    "                              num_hidden_layers=2,\n",
    "                              hidden_size=50,\n",
    "                              dropout=0.1\n",
    "                              )\n",
    "\n",
    "    \n",
    "\n",
    "split_config = SplitConfig(window_size=window_size,\n",
    "                           prediction_length=1,\n",
    "                           look_ahead=look_ahead,\n",
    "                           val_split=configuration.validation_split,\n",
    "                           test_split=configuration.test_split,\n",
    "                           is_indexed=True,\n",
    "                           scale_target=True,\n",
    "                           fixed_feature_size=None,\n",
    "                           batch_size=100,\n",
    "                           )\n",
    "\n",
    "\n",
    "model_trainer = Trainer(epochs = 30, learning_rate=1e-4)\n"
   ]
  },
  {
   "cell_type": "code",
   "outputs": [],
   "source": [
    "root_node = SearchNodeAdding(data,\n",
    "                             selection=[],\n",
    "                             model_trainer=model_trainer,\n",
    "                             target_column=configuration.target_column,\n",
    "                             date_column=configuration.date_column,\n",
    "                             model_config=model_config,\n",
    "                             split_config=split_config,\n",
    "                             num_iterations=16,\n",
    "                             max_children=10,\n",
    "                             parent=None\n",
    "                             )"
   ],
   "metadata": {
    "collapsed": false,
    "ExecuteTime": {
     "end_time": "2025-06-23T21:25:01.245310Z",
     "start_time": "2025-06-23T21:25:01.242656Z"
    }
   },
   "id": "c54a866a56221edc",
   "execution_count": 5
  },
  {
   "cell_type": "code",
   "outputs": [
    {
     "name": "stdout",
     "output_type": "stream",
     "text": [
      "New Best Node:  []  with score:  1.203\n",
      "New Child:  ['MOV ']  with score:  3.129\n",
      "New Child:  ['YSS']  with score:  5.572\n",
      "New Child:  ['CF']  with score:  1.143\n",
      "['CF']\n",
      "New Best Node:  ['CF']  with score:  1.143\n",
      "New Child:  ['CF', 'MOV ']  with score:  2.342\n",
      "New Child:  ['CF', 'YSS']  with score:  5.211\n",
      "New Child:  ['CF', 'RV']  with score:  2.507\n",
      "New Child:  ['CF', '_OIL']  with score:  4.039\n",
      "New Child:  ['CF', 'PE']  with score:  1.964\n",
      "New Child:  ['CF', '_DXY']  with score:  5.128\n",
      "New Child:  ['CF', 'CAPE']  with score:  2.073\n",
      "New Child:  ['CF', 'Rho']  with score:  1.693\n",
      "New Child:  ['CF', 'DY']  with score:  2.299\n",
      "New Child:  ['CF', 'NYF']  with score:  1.402\n",
      "Backtracking, node is fully expanded\n",
      "New Child:  ['_OIL']  with score:  12.159\n",
      "New Child:  ['CAPE']  with score:  2.369\n",
      "New Child:  ['PE']  with score:  1.956\n",
      "New Child:  ['NYF']  with score:  5.875\n",
      "New Child:  ['Rho']  with score:  2.281\n",
      "New Child:  ['MG']  with score:  4.897\n",
      "New Child:  ['RV']  with score:  3.215\n",
      "Backtracking, node is fully expanded\n",
      "New Child:  ['CF', 'NYF', 'MOV ']  with score:  3.719\n",
      "New Child:  ['CF', 'NYF', 'YSS']  with score:  4.364\n",
      "New Child:  ['CF', 'NYF', 'RV']  with score:  2.156\n",
      "New Child:  ['CF', 'NYF', 'PE']  with score:  4.116\n",
      "New Child:  ['CF', 'NYF', '_OIL']  with score:  7.154\n",
      "New Child:  ['CF', 'NYF', 'CAPE']  with score:  3.459\n",
      "New Child:  ['CF', 'NYF', '_DXY']  with score:  2.757\n",
      "New Child:  ['CF', 'NYF', 'Rho']  with score:  1.825\n",
      "New Child:  ['CF', 'NYF', 'IR']  with score:  1.37\n",
      "New Child:  ['CF', 'NYF', 'IR', 'MOV ']  with score:  2.579\n",
      "New Child:  ['CF', 'NYF', 'IR', 'YSS']  with score:  4.078\n",
      "New Child:  ['CF', 'NYF', 'IR', 'RV']  with score:  2.148\n",
      "New Child:  ['CF', 'NYF', 'IR', 'PE']  with score:  8.986\n",
      "New Child:  ['CF', 'NYF', 'IR', '_OIL']  with score:  3.967\n",
      "New Child:  ['CF', 'NYF', 'IR', '_DXY']  with score:  4.132\n",
      "New Child:  ['CF', 'NYF', 'IR', 'CAPE']  with score:  4.832\n",
      "New Child:  ['CF', 'NYF', 'IR', 'ED']  with score:  3.158\n",
      "New Child:  ['CF', 'NYF', 'IR', 'GDP']  with score:  3.648\n",
      "New Child:  ['CF', 'NYF', 'IR', 'DY']  with score:  4.57\n",
      "Backtracking, node is fully expanded\n",
      "New Child:  ['CF', 'NYF', 'STP']  with score:  1.898\n",
      "Backtracking, node is fully expanded\n",
      "New Child:  ['CF', 'Rho', 'MOV ']  with score:  1.666\n",
      "New Child:  ['CF', 'Rho', 'MOV ', 'RV']  with score:  2.555\n",
      "New Child:  ['CF', 'Rho', 'MOV ', 'ED']  with score:  2.831\n",
      "New Child:  ['CF', 'Rho', 'MOV ', 'RR']  with score:  6.131\n",
      "New Child:  ['CF', 'Rho', 'MOV ', 'UN']  with score:  1.138\n",
      "['CF', 'Rho', 'MOV ', 'UN']\n",
      "New Best Node:  ['CF', 'Rho', 'MOV ', 'UN']  with score:  1.138\n",
      "Backtracking, max depth reached\n",
      "New Child:  ['CF', 'Rho', 'MOV ', '_DXY']  with score:  3.625\n",
      "New Child:  ['CF', 'Rho', 'MOV ', 'M2']  with score:  1.569\n",
      "Backtracking, max depth reached\n",
      "New Child:  ['CF', 'Rho', 'MOV ', 'GDP']  with score:  2.216\n",
      "New Child:  ['CF', 'Rho', 'MOV ', '_OIL']  with score:  5.294\n",
      "New Child:  ['CF', 'Rho', 'MOV ', 'IR']  with score:  1.802\n",
      "New Child:  ['CF', 'Rho', 'MOV ', 'STP']  with score:  3.78\n",
      "Backtracking, node is fully expanded\n",
      "New Child:  ['CF', 'Rho', 'YSS']  with score:  2.563\n",
      "New Child:  ['CF', 'Rho', 'RV']  with score:  1.66\n",
      "New Child:  ['CF', 'Rho', 'RV', 'YSS']  with score:  2.796\n",
      "New Child:  ['CF', 'Rho', 'RV', '_OIL']  with score:  4.163\n",
      "New Child:  ['CF', 'Rho', 'RV', '_AU']  with score:  2.731\n",
      "New Child:  ['CF', 'Rho', 'RV', 'PE']  with score:  1.108\n",
      "['CF', 'Rho', 'RV', 'PE']\n",
      "New Best Node:  ['CF', 'Rho', 'RV', 'PE']  with score:  1.108\n",
      "Backtracking, max depth reached\n",
      "New Child:  ['CF', 'Rho', 'RV', 'CAPE']  with score:  2.034\n",
      "New Child:  ['CF', 'Rho', 'RV', 'MG']  with score:  3.649\n",
      "New Child:  ['CF', 'Rho', 'RV', 'DY']  with score:  2.068\n",
      "New Child:  ['CF', 'Rho', 'RV', 'M2']  with score:  2.079\n",
      "New Child:  ['CF', 'Rho', 'RV', 'ED']  with score:  3.742\n",
      "Backtracking, node is fully expanded\n",
      "New Child:  ['CF', 'Rho', '_OIL']  with score:  3.121\n",
      "New Child:  ['CF', 'Rho', 'PE']  with score:  1.625\n",
      "New Child:  ['CF', 'Rho', 'PE', 'MOV ']  with score:  2.205\n",
      "New Child:  ['CF', 'Rho', 'PE', 'YSS']  with score:  2.778\n",
      "New Child:  ['CF', 'Rho', 'PE', '_DXY']  with score:  2.4\n",
      "New Child:  ['CF', 'Rho', 'PE', 'DIL']  with score:  5.038\n",
      "New Child:  ['CF', 'Rho', 'PE', 'NYF']  with score:  4.135\n",
      "New Child:  ['CF', 'Rho', 'PE', 'ED']  with score:  2.912\n",
      "New Child:  ['CF', 'Rho', 'PE', 'GDP']  with score:  4.18\n",
      "New Child:  ['CF', 'Rho', 'PE', 'EMP']  with score:  1.244\n",
      "Backtracking, max depth reached\n",
      "New Child:  ['CF', 'Rho', 'PE', '_LCP']  with score:  1.622\n",
      "Backtracking, node is fully expanded\n",
      "Backtracking, max depth reached\n",
      "New Child:  ['CF', 'Rho', '_DXY']  with score:  3.165\n",
      "New Child:  ['CF', 'Rho', 'ED']  with score:  3.37\n",
      "New Child:  ['CF', 'Rho', 'CAPE']  with score:  3.1\n"
     ]
    }
   ],
   "source": [
    "from queue import PriorityQueue\n",
    "import time\n",
    "import pickle\n",
    "\n",
    "max_depth = 4\n",
    "max_time = 3600 * 1 # in seconds\n",
    "\n",
    "file_name = f\"Feature Selection Look Ahead {look_ahead}\"\n",
    "out_path = configuration.output_path + \"feature_selection/\"\n",
    "\n",
    "start_time = time.time()\n",
    "\n",
    "finished_nodes = []\n",
    "expanded_nodes = []\n",
    "result = []\n",
    "\n",
    "queue = PriorityQueue()\n",
    "\n",
    "queue.put(root_node)\n",
    "expanded_nodes.append(root_node)\n",
    "\n",
    "h_mean, h_std, h_med = root_node.get_heuristic()\n",
    "result.append((copy.deepcopy(root_node.selection), h_mean, h_std, h_med))\n",
    "\n",
    "best_node = root_node\n",
    "print(\"New Best Node: \", best_node.selection, \" with score: \", round(best_node.get_heuristic()[2], 3))\n",
    "\n",
    "while max_time + start_time >= time.time():\n",
    "    if queue.qsize() == 0:\n",
    "        break\n",
    "    \n",
    "    current_node = queue.get()\n",
    "    \n",
    "    if current_node in finished_nodes:\n",
    "        print(\"Backtracking, nodes was fully visited\")\n",
    "        continue\n",
    "        \n",
    "        \n",
    "    if current_node.get_heuristic()[2] < best_node.get_heuristic()[2]:\n",
    "        best_node = current_node      \n",
    "        print(current_node.selection)\n",
    "        print(\"New Best Node: \", best_node.selection, \" with score: \", round(best_node.get_heuristic()[2], 3))\n",
    "        \n",
    "        \n",
    "    if current_node.get_depth() >= max_depth:\n",
    "        finished_nodes.append(current_node)\n",
    "        print(\"Backtracking, max depth reached\")\n",
    "        continue\n",
    "        \n",
    "    \n",
    "    if current_node.has_next_child():\n",
    "        child_node = current_node.next_child()\n",
    "        \n",
    "        if (child_node not in expanded_nodes) and (child_node not in finished_nodes):\n",
    "            h_mean, h_std, h_med = child_node.get_heuristic()\n",
    "            \n",
    "            queue.put(child_node)\n",
    "            expanded_nodes.append(child_node)\n",
    "            result.append((copy.deepcopy(child_node.selection), h_mean, h_std, h_med))\n",
    "\n",
    "            print(\"New Child: \", child_node.selection, \" with score: \", round(h_med,3))\n",
    "            \n",
    "            with open(out_path + file_name, \"wb\") as file:\n",
    "                pickle.dump(result, file, protocol=pickle.HIGHEST_PROTOCOL)\n",
    "\n",
    "    \n",
    "    if not current_node.has_next_child():\n",
    "        print(\"Backtracking, node is fully expanded\")\n",
    "        finished_nodes.append(current_node)\n",
    "    else:\n",
    "        queue.put(current_node)\n",
    "    "
   ],
   "metadata": {
    "collapsed": false,
    "ExecuteTime": {
     "end_time": "2025-06-23T22:25:44.784863Z",
     "start_time": "2025-06-23T21:25:01.245882Z"
    }
   },
   "id": "846eb8f9e9bbd634",
   "execution_count": 6
  },
  {
   "cell_type": "code",
   "outputs": [
    {
     "name": "stdout",
     "output_type": "stream",
     "text": [
      "Best Node:  ['CF', 'Rho', 'RV', 'PE']  with score:  1.108\n"
     ]
    }
   ],
   "source": [
    "print(\"Best Node: \", best_node.selection, \" with score: \", round(best_node.get_heuristic()[2], 3))"
   ],
   "metadata": {
    "collapsed": false,
    "ExecuteTime": {
     "end_time": "2025-06-23T22:25:44.789825Z",
     "start_time": "2025-06-23T22:25:44.785897Z"
    }
   },
   "id": "8a70f88fcd2b18e1",
   "execution_count": 7
  }
 ],
 "metadata": {
  "kernelspec": {
   "display_name": "Python 3",
   "language": "python",
   "name": "python3"
  },
  "language_info": {
   "codemirror_mode": {
    "name": "ipython",
    "version": 2
   },
   "file_extension": ".py",
   "mimetype": "text/x-python",
   "name": "python",
   "nbconvert_exporter": "python",
   "pygments_lexer": "ipython2",
   "version": "2.7.6"
  }
 },
 "nbformat": 4,
 "nbformat_minor": 5
}
